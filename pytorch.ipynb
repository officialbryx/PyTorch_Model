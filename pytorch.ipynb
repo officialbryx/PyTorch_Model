{
  "nbformat": 4,
  "nbformat_minor": 0,
  "metadata": {
    "colab": {
      "provenance": [],
      "gpuType": "T4"
    },
    "kernelspec": {
      "name": "python3",
      "display_name": "Python 3"
    },
    "language_info": {
      "name": "python"
    },
    "accelerator": "GPU"
  },
  "cells": [
    {
      "cell_type": "code",
      "execution_count": 4,
      "metadata": {
        "colab": {
          "base_uri": "https://localhost:8080/"
        },
        "id": "xrgiSkIxKKyd",
        "outputId": "ef51d094-1d9d-4995-dcdd-e712435e6557"
      },
      "outputs": [
        {
          "output_type": "stream",
          "name": "stdout",
          "text": [
            "Requirement already satisfied: torch in /usr/local/lib/python3.10/dist-packages (2.4.0+cu121)\n",
            "Requirement already satisfied: filelock in /usr/local/lib/python3.10/dist-packages (from torch) (3.15.4)\n",
            "Requirement already satisfied: typing-extensions>=4.8.0 in /usr/local/lib/python3.10/dist-packages (from torch) (4.12.2)\n",
            "Requirement already satisfied: sympy in /usr/local/lib/python3.10/dist-packages (from torch) (1.13.2)\n",
            "Requirement already satisfied: networkx in /usr/local/lib/python3.10/dist-packages (from torch) (3.3)\n",
            "Requirement already satisfied: jinja2 in /usr/local/lib/python3.10/dist-packages (from torch) (3.1.4)\n",
            "Requirement already satisfied: fsspec in /usr/local/lib/python3.10/dist-packages (from torch) (2024.6.1)\n",
            "Requirement already satisfied: MarkupSafe>=2.0 in /usr/local/lib/python3.10/dist-packages (from jinja2->torch) (2.1.5)\n",
            "Requirement already satisfied: mpmath<1.4,>=1.1.0 in /usr/local/lib/python3.10/dist-packages (from sympy->torch) (1.3.0)\n",
            "Requirement already satisfied: pandas in /usr/local/lib/python3.10/dist-packages (2.1.4)\n",
            "Requirement already satisfied: numpy<2,>=1.22.4 in /usr/local/lib/python3.10/dist-packages (from pandas) (1.26.4)\n",
            "Requirement already satisfied: python-dateutil>=2.8.2 in /usr/local/lib/python3.10/dist-packages (from pandas) (2.8.2)\n",
            "Requirement already satisfied: pytz>=2020.1 in /usr/local/lib/python3.10/dist-packages (from pandas) (2024.1)\n",
            "Requirement already satisfied: tzdata>=2022.1 in /usr/local/lib/python3.10/dist-packages (from pandas) (2024.1)\n",
            "Requirement already satisfied: six>=1.5 in /usr/local/lib/python3.10/dist-packages (from python-dateutil>=2.8.2->pandas) (1.16.0)\n",
            "Requirement already satisfied: numpy in /usr/local/lib/python3.10/dist-packages (1.26.4)\n",
            "Requirement already satisfied: matplotlib in /usr/local/lib/python3.10/dist-packages (3.7.1)\n",
            "Requirement already satisfied: contourpy>=1.0.1 in /usr/local/lib/python3.10/dist-packages (from matplotlib) (1.2.1)\n",
            "Requirement already satisfied: cycler>=0.10 in /usr/local/lib/python3.10/dist-packages (from matplotlib) (0.12.1)\n",
            "Requirement already satisfied: fonttools>=4.22.0 in /usr/local/lib/python3.10/dist-packages (from matplotlib) (4.53.1)\n",
            "Requirement already satisfied: kiwisolver>=1.0.1 in /usr/local/lib/python3.10/dist-packages (from matplotlib) (1.4.5)\n",
            "Requirement already satisfied: numpy>=1.20 in /usr/local/lib/python3.10/dist-packages (from matplotlib) (1.26.4)\n",
            "Requirement already satisfied: packaging>=20.0 in /usr/local/lib/python3.10/dist-packages (from matplotlib) (24.1)\n",
            "Requirement already satisfied: pillow>=6.2.0 in /usr/local/lib/python3.10/dist-packages (from matplotlib) (9.4.0)\n",
            "Requirement already satisfied: pyparsing>=2.3.1 in /usr/local/lib/python3.10/dist-packages (from matplotlib) (3.1.2)\n",
            "Requirement already satisfied: python-dateutil>=2.7 in /usr/local/lib/python3.10/dist-packages (from matplotlib) (2.8.2)\n",
            "Requirement already satisfied: six>=1.5 in /usr/local/lib/python3.10/dist-packages (from python-dateutil>=2.7->matplotlib) (1.16.0)\n",
            "2.4.0+cu121\n"
          ]
        }
      ],
      "source": [
        "# prompt: import torch\n",
        "# import pandas as pd\n",
        "# import numpy as np\n",
        "# import matplotlib.pyplot as plt\n",
        "# print(torch.__version__)\n",
        "\n",
        "!pip install torch\n",
        "!pip install pandas\n",
        "!pip install numpy\n",
        "!pip install matplotlib\n",
        "\n",
        "import torch\n",
        "import pandas as pd\n",
        "import numpy as np\n",
        "import matplotlib.pyplot as plt\n",
        "\n",
        "print(torch.__version__)\n"
      ]
    },
    {
      "cell_type": "code",
      "source": [
        "scalar = torch.tensor(7)\n",
        "scalar"
      ],
      "metadata": {
        "id": "PiDN58pAMz0i"
      },
      "execution_count": 6,
      "outputs": []
    },
    {
      "cell_type": "code",
      "source": [
        "scalar.ndim"
      ],
      "metadata": {
        "id": "CVq1zqDINgwZ"
      },
      "execution_count": null,
      "outputs": []
    },
    {
      "cell_type": "code",
      "source": [
        "scalar.item()"
      ],
      "metadata": {
        "id": "pVB7R4HENlLO"
      },
      "execution_count": null,
      "outputs": []
    },
    {
      "cell_type": "code",
      "source": [
        "vector = torch.tensor([7, 7])"
      ],
      "metadata": {
        "id": "kUKTcqmcNrOA"
      },
      "execution_count": null,
      "outputs": []
    },
    {
      "cell_type": "code",
      "source": [
        "matrix = torch.tensor([[4, 5], [6, 7]])\n",
        "matrix.ndim\n",
        "matrix[1]\n",
        "matrix.shape"
      ],
      "metadata": {
        "colab": {
          "base_uri": "https://localhost:8080/"
        },
        "id": "yzcIiTXBN0Ee",
        "outputId": "877ff5cf-b996-434a-d41a-3fd889e6bda2"
      },
      "execution_count": 11,
      "outputs": [
        {
          "output_type": "execute_result",
          "data": {
            "text/plain": [
              "torch.Size([2, 2])"
            ]
          },
          "metadata": {},
          "execution_count": 11
        }
      ]
    },
    {
      "cell_type": "code",
      "source": [
        "tensor = torch.tensor([[[[1,2],\n",
        "                        [3,4],\n",
        "                        [5,6]],\n",
        "                        [[7,8],\n",
        "                         [9,10],\n",
        "                          [11,12]]]])\n",
        "tensor.ndim\n",
        "tensor[0]"
      ],
      "metadata": {
        "colab": {
          "base_uri": "https://localhost:8080/"
        },
        "id": "y_J_nQBmSCcX",
        "outputId": "a30eb4ab-bee1-4a51-fd9b-3b0f90897c88"
      },
      "execution_count": 18,
      "outputs": [
        {
          "output_type": "execute_result",
          "data": {
            "text/plain": [
              "tensor([[[ 1,  2],\n",
              "         [ 3,  4],\n",
              "         [ 5,  6]],\n",
              "\n",
              "        [[ 7,  8],\n",
              "         [ 9, 10],\n",
              "         [11, 12]]])"
            ]
          },
          "metadata": {},
          "execution_count": 18
        }
      ]
    },
    {
      "cell_type": "code",
      "source": [
        "tensor.shape"
      ],
      "metadata": {
        "colab": {
          "base_uri": "https://localhost:8080/"
        },
        "id": "G7k1ti8nSTyu",
        "outputId": "3265ebcb-6728-4daf-ef84-afc1b512a638"
      },
      "execution_count": 19,
      "outputs": [
        {
          "output_type": "execute_result",
          "data": {
            "text/plain": [
              "torch.Size([1, 2, 3, 2])"
            ]
          },
          "metadata": {},
          "execution_count": 19
        }
      ]
    },
    {
      "cell_type": "code",
      "source": [
        "random_tensor = torch.rand(1, 4, 3, 3)\n",
        "print(random_tensor)"
      ],
      "metadata": {
        "colab": {
          "base_uri": "https://localhost:8080/"
        },
        "id": "Am7aWtKtXbeV",
        "outputId": "2b82f228-b977-4c83-daa5-dcaf3ee52a38"
      },
      "execution_count": 22,
      "outputs": [
        {
          "output_type": "stream",
          "name": "stdout",
          "text": [
            "tensor([[[[0.6854, 0.6010, 0.4614],\n",
            "          [0.0865, 0.5866, 0.3407],\n",
            "          [0.3331, 0.5452, 0.4048]],\n",
            "\n",
            "         [[0.9535, 0.8367, 0.3481],\n",
            "          [0.2743, 0.7334, 0.1243],\n",
            "          [0.2180, 0.2810, 0.3987]],\n",
            "\n",
            "         [[0.3555, 0.4696, 0.2815],\n",
            "          [0.7082, 0.4379, 0.3814],\n",
            "          [0.7679, 0.1304, 0.5992]],\n",
            "\n",
            "         [[0.1565, 0.7205, 0.9187],\n",
            "          [0.6579, 0.4588, 0.4180],\n",
            "          [0.3723, 0.1042, 0.2041]]]])\n"
          ]
        }
      ]
    },
    {
      "cell_type": "code",
      "source": [
        "random_tensor.ndim"
      ],
      "metadata": {
        "colab": {
          "base_uri": "https://localhost:8080/"
        },
        "id": "JkxpLqAfXnZg",
        "outputId": "c39e0fbb-8456-4fa7-d9e3-552bd75df210"
      },
      "execution_count": 23,
      "outputs": [
        {
          "output_type": "execute_result",
          "data": {
            "text/plain": [
              "4"
            ]
          },
          "metadata": {},
          "execution_count": 23
        }
      ]
    },
    {
      "cell_type": "code",
      "source": [
        "random_image_tensor = torch.rand(size=(224, 224, 3))\n",
        "random_image_tensor.shape, random_image_tensor.ndim"
      ],
      "metadata": {
        "colab": {
          "base_uri": "https://localhost:8080/"
        },
        "id": "Dbw1DhWybPrH",
        "outputId": "d0342555-3a5b-4c06-c105-d9c76a514435"
      },
      "execution_count": 24,
      "outputs": [
        {
          "output_type": "execute_result",
          "data": {
            "text/plain": [
              "(torch.Size([224, 224, 3]), 3)"
            ]
          },
          "metadata": {},
          "execution_count": 24
        }
      ]
    },
    {
      "cell_type": "code",
      "source": [
        "print(random_image_tensor)"
      ],
      "metadata": {
        "colab": {
          "base_uri": "https://localhost:8080/"
        },
        "id": "CI53GrTYbd4U",
        "outputId": "49170f42-4c07-4ecf-ca8a-4ee1287174b1"
      },
      "execution_count": 25,
      "outputs": [
        {
          "output_type": "stream",
          "name": "stdout",
          "text": [
            "tensor([[[0.6929, 0.4191, 0.0045],\n",
            "         [0.1218, 0.3627, 0.4921],\n",
            "         [0.8601, 0.7370, 0.8836],\n",
            "         ...,\n",
            "         [0.1290, 0.6479, 0.6135],\n",
            "         [0.2475, 0.8849, 0.2943],\n",
            "         [0.0729, 0.0506, 0.9747]],\n",
            "\n",
            "        [[0.5080, 0.1920, 0.2693],\n",
            "         [0.9961, 0.2574, 0.1602],\n",
            "         [0.4439, 0.0131, 0.5647],\n",
            "         ...,\n",
            "         [0.5507, 0.5802, 0.1057],\n",
            "         [0.6553, 0.2736, 0.8842],\n",
            "         [0.2419, 0.7633, 0.0329]],\n",
            "\n",
            "        [[0.6250, 0.0116, 0.4938],\n",
            "         [0.3020, 0.3675, 0.1364],\n",
            "         [0.7715, 0.9295, 0.1853],\n",
            "         ...,\n",
            "         [0.4616, 0.8011, 0.8191],\n",
            "         [0.7062, 0.4847, 0.5190],\n",
            "         [0.1857, 0.5287, 0.8363]],\n",
            "\n",
            "        ...,\n",
            "\n",
            "        [[0.4967, 0.2760, 0.6043],\n",
            "         [0.6722, 0.6894, 0.6237],\n",
            "         [0.0705, 0.6941, 0.6325],\n",
            "         ...,\n",
            "         [0.3041, 0.7298, 0.0156],\n",
            "         [0.8938, 0.8746, 0.2880],\n",
            "         [0.2020, 0.9734, 0.6095]],\n",
            "\n",
            "        [[0.0522, 0.1906, 0.8419],\n",
            "         [0.3751, 0.4451, 0.4484],\n",
            "         [0.5747, 0.3049, 0.6175],\n",
            "         ...,\n",
            "         [0.0962, 0.4900, 0.6868],\n",
            "         [0.2332, 0.6714, 0.8560],\n",
            "         [0.1570, 0.9811, 0.7273]],\n",
            "\n",
            "        [[0.2465, 0.1040, 0.2650],\n",
            "         [0.7440, 0.0022, 0.0741],\n",
            "         [0.7419, 0.2778, 0.0984],\n",
            "         ...,\n",
            "         [0.6575, 0.2304, 0.5398],\n",
            "         [0.5627, 0.3273, 0.9576],\n",
            "         [0.3621, 0.0632, 0.8939]]])\n"
          ]
        }
      ]
    },
    {
      "cell_type": "code",
      "source": [
        "test = torch.rand(4, 4, 3)\n",
        "print(test)"
      ],
      "metadata": {
        "colab": {
          "base_uri": "https://localhost:8080/"
        },
        "id": "pIqfCA75c-QE",
        "outputId": "7bd987a8-995a-4aa6-9add-d4d0d1737e5b"
      },
      "execution_count": 32,
      "outputs": [
        {
          "output_type": "stream",
          "name": "stdout",
          "text": [
            "tensor([[[0.9867, 0.0694, 0.7614],\n",
            "         [0.3948, 0.2373, 0.4917],\n",
            "         [0.0727, 0.4039, 0.0548],\n",
            "         [0.6668, 0.0171, 0.3669]],\n",
            "\n",
            "        [[0.2083, 0.8999, 0.5423],\n",
            "         [0.3045, 0.3131, 0.7982],\n",
            "         [0.3621, 0.7539, 0.9323],\n",
            "         [0.7235, 0.5999, 0.7757]],\n",
            "\n",
            "        [[0.2824, 0.7254, 0.3925],\n",
            "         [0.2929, 0.7009, 0.7093],\n",
            "         [0.1388, 0.6860, 0.6283],\n",
            "         [0.8922, 0.4961, 0.6004]],\n",
            "\n",
            "        [[0.4336, 0.3288, 0.6340],\n",
            "         [0.8947, 0.2950, 0.0766],\n",
            "         [0.8165, 0.6570, 0.4042],\n",
            "         [0.8129, 0.1044, 0.5230]]])\n"
          ]
        }
      ]
    },
    {
      "cell_type": "code",
      "source": [
        "random_tensor_zeros = torch.zeros(size=(3, 4))\n",
        "random_tensor_zeros"
      ],
      "metadata": {
        "id": "H2_0dm9YexZN",
        "outputId": "dc8c3c83-a5d6-4501-c1f9-129a665061fb",
        "colab": {
          "base_uri": "https://localhost:8080/"
        }
      },
      "execution_count": 33,
      "outputs": [
        {
          "output_type": "execute_result",
          "data": {
            "text/plain": [
              "tensor([[0., 0., 0., 0.],\n",
              "        [0., 0., 0., 0.],\n",
              "        [0., 0., 0., 0.]])"
            ]
          },
          "metadata": {},
          "execution_count": 33
        }
      ]
    }
  ]
}